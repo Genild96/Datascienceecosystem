{
 "cells": [
  {
   "cell_type": "markdown",
   "id": "81d31623-def0-460c-be9d-8a0845177493",
   "metadata": {},
   "source": [
    "# Data Science Tools and Ecosystem"
   ]
  },
  {
   "cell_type": "markdown",
   "id": "3ac8ed98-8c40-4019-add8-5406914c978e",
   "metadata": {},
   "source": [
    "#In this notebook, Data Science Tools and Ecosystem are summarized."
   ]
  },
  {
   "cell_type": "markdown",
   "id": "91f89738-f992-4b83-8da5-d2649256415d",
   "metadata": {},
   "source": [
    "**#Objectives:**\n",
    "- List popular languages for Data Science.\n",
    "- Data Science Tools and Ecosystem\n",
    "- The popular languages that Data Scientists use\n",
    "- the commonly used libraries used by Data Scientists\n"
   ]
  },
  {
   "cell_type": "markdown",
   "id": "aeea4fda-383f-4cff-ac01-16abfca33af0",
   "metadata": {},
   "source": [
    "Some of the popular languages that Data Scientists use are:\n",
    "1. Python\n",
    "2. R\n",
    "3. C++\n",
    "4. Java"
   ]
  },
  {
   "cell_type": "markdown",
   "id": "4842b93d-ac65-4dfc-95d7-8788b9fb56a7",
   "metadata": {},
   "source": [
    "Some of the commonly used libraries used by Data Scientists include:\n",
    "1- Pandas\n",
    "2- Matplotlib\n",
    "3- Scikitlearn"
   ]
  },
  {
   "cell_type": "markdown",
   "id": "f7fd621c-c427-4062-823e-12c19d5f56f3",
   "metadata": {},
   "source": [
    "|Data Science Tools|\n",
    "-------------------\n",
    "|Jupyter Notebook|\n",
    "|Spyder|\n",
    "|Rstudio|\n"
   ]
  },
  {
   "cell_type": "markdown",
   "id": "a46f6dec-f8c1-446c-89e7-5025d0b61e64",
   "metadata": {},
   "source": [
    "### Below are a few examples of evaluating arithmetic expressions in Python"
   ]
  },
  {
   "cell_type": "code",
   "execution_count": 13,
   "id": "36106a56-ac27-471e-9c2c-db29096767d8",
   "metadata": {},
   "outputs": [
    {
     "name": "stdout",
     "output_type": "stream",
     "text": [
      "12\n"
     ]
    },
    {
     "ename": "TypeError",
     "evalue": "unsupported operand type(s) for +: 'NoneType' and 'int'",
     "output_type": "error",
     "traceback": [
      "\u001b[1;31m---------------------------------------------------------------------------\u001b[0m",
      "\u001b[1;31mTypeError\u001b[0m                                 Traceback (most recent call last)",
      "Cell \u001b[1;32mIn[13], line 1\u001b[0m\n\u001b[1;32m----> 1\u001b[0m \u001b[38;5;28mprint\u001b[39m(\u001b[38;5;241m3\u001b[39m\u001b[38;5;241m*\u001b[39m\u001b[38;5;241m4\u001b[39m)\u001b[38;5;241m+\u001b[39m\u001b[38;5;241m5\u001b[39m\n",
      "\u001b[1;31mTypeError\u001b[0m: unsupported operand type(s) for +: 'NoneType' and 'int'"
     ]
    }
   ],
   "source": [
    "print(3*4)+5\n",
    "#This a simple arithmetic expression to mutiply then add integers."
   ]
  },
  {
   "cell_type": "code",
   "execution_count": null,
   "id": "18415601-705b-4e34-86de-573af6004c81",
   "metadata": {},
   "outputs": [],
   "source": [
    "def convert_minute(minute)\n",
    "    heure = minute//60\n",
    "    minute = minute -60 * heure\n",
    "    return heure,minute\n",
    "\n",
    "h, m = convert_minute(200)\n",
    "print (\"200:\",h,\"heure\",s,\"minute\")"
   ]
  },
  {
   "cell_type": "code",
   "execution_count": null,
   "id": "467a1a20-b872-4c14-97ab-20517c65c799",
   "metadata": {},
   "outputs": [],
   "source": [
    "#This will convert 200 minutes to hours by diving by 60.\n",
    "def convertir_minutes_en_heures(minutes):\n",
    "    heures = minutes / 60\n",
    "    minute = minutes - 60 * heures\n",
    "    return hours\n",
    "\n",
    "minutes = 200\n",
    "heures = convertir_minutes_en_heures(minutes)\n",
    "print(minutes, \"minutes équivaut à\", heures, \"heures\",minute, \"minute.\")"
   ]
  },
  {
   "cell_type": "markdown",
   "id": "28cef5aa-8d03-4a61-9085-49b2aa11ddf3",
   "metadata": {},
   "source": [
    "## Author\n",
    "KADJA Yélognissè Boris François Génild"
   ]
  },
  {
   "cell_type": "code",
   "execution_count": null,
   "id": "bb708005-6dee-46c0-9aaf-a5c22e373ad1",
   "metadata": {},
   "outputs": [],
   "source": []
  }
 ],
 "metadata": {
  "kernelspec": {
   "display_name": "Python 3 (ipykernel)",
   "language": "python",
   "name": "python3"
  },
  "language_info": {
   "codemirror_mode": {
    "name": "ipython",
    "version": 3
   },
   "file_extension": ".py",
   "mimetype": "text/x-python",
   "name": "python",
   "nbconvert_exporter": "python",
   "pygments_lexer": "ipython3",
   "version": "3.11.7"
  }
 },
 "nbformat": 4,
 "nbformat_minor": 5
}
